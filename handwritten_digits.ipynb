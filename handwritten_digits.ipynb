{
 "cells": [
  {
   "cell_type": "markdown",
   "id": "08287b8a",
   "metadata": {},
   "source": [
    "Recognizing Handwritten Digits"
   ]
  },
  {
   "cell_type": "code",
   "execution_count": 2,
   "id": "2faf89cf",
   "metadata": {},
   "outputs": [],
   "source": [
    "import numpy as np\n",
    "import matplotlib.pyplot as plt\n",
    "from sklearn.datasets import load_digits\n",
    "from sklearn.preprocessing import StandardScaler\n",
    "from sklearn.model_selection import train_test_split\n",
    "from sklearn.svm import SVC\n",
    "from sklearn.neighbors import KNeighborsClassifier\n",
    "from sklearn.tree import DecisionTreeClassifier\n",
    "from sklearn.ensemble import AdaBoostClassifier\n",
    "from sklearn.neural_network import MLPClassifier\n",
    "from sklearn.metrics import accuracy_score, confusion_matrix, classification_report\n",
    "%matplotlib inline"
   ]
  },
  {
   "cell_type": "markdown",
   "id": "31d65289",
   "metadata": {},
   "source": [
    "Loading Data"
   ]
  },
  {
   "cell_type": "code",
   "execution_count": 5,
   "id": "20f55966",
   "metadata": {},
   "outputs": [],
   "source": [
    "digits = load_digits()"
   ]
  },
  {
   "cell_type": "code",
   "execution_count": 6,
   "id": "c11eb3d8",
   "metadata": {},
   "outputs": [
    {
     "name": "stdout",
     "output_type": "stream",
     "text": [
      ".. _digits_dataset:\n",
      "\n",
      "Optical recognition of handwritten digits dataset\n",
      "--------------------------------------------------\n",
      "\n",
      "**Data Set Characteristics:**\n",
      "\n",
      "    :Number of Instances: 1797\n",
      "    :Number of Attributes: 64\n",
      "    :Attribute Information: 8x8 image of integer pixels in the range 0..16.\n",
      "    :Missing Attribute Values: None\n",
      "    :Creator: E. Alpaydin (alpaydin '@' boun.edu.tr)\n",
      "    :Date: July; 1998\n",
      "\n",
      "This is a copy of the test set of the UCI ML hand-written digits datasets\n",
      "https://archive.ics.uci.edu/ml/datasets/Optical+Recognition+of+Handwritten+Digits\n",
      "\n",
      "The data set contains images of hand-written digits: 10 classes where\n",
      "each class refers to a digit.\n",
      "\n",
      "Preprocessing programs made available by NIST were used to extract\n",
      "normalized bitmaps of handwritten digits from a preprinted form. From a\n",
      "total of 43 people, 30 contributed to the training set and different 13\n",
      "to the test set. 32x32 bitmaps are divided into nonoverlapping blocks of\n",
      "4x4 and the number of on pixels are counted in each block. This generates\n",
      "an input matrix of 8x8 where each element is an integer in the range\n",
      "0..16. This reduces dimensionality and gives invariance to small\n",
      "distortions.\n",
      "\n",
      "For info on NIST preprocessing routines, see M. D. Garris, J. L. Blue, G.\n",
      "T. Candela, D. L. Dimmick, J. Geist, P. J. Grother, S. A. Janet, and C.\n",
      "L. Wilson, NIST Form-Based Handprint Recognition System, NISTIR 5469,\n",
      "1994.\n",
      "\n",
      ".. topic:: References\n",
      "\n",
      "  - C. Kaynak (1995) Methods of Combining Multiple Classifiers and Their\n",
      "    Applications to Handwritten Digit Recognition, MSc Thesis, Institute of\n",
      "    Graduate Studies in Science and Engineering, Bogazici University.\n",
      "  - E. Alpaydin, C. Kaynak (1998) Cascading Classifiers, Kybernetika.\n",
      "  - Ken Tang and Ponnuthurai N. Suganthan and Xi Yao and A. Kai Qin.\n",
      "    Linear dimensionalityreduction using relevance weighted LDA. School of\n",
      "    Electrical and Electronic Engineering Nanyang Technological University.\n",
      "    2005.\n",
      "  - Claudio Gentile. A New Approximate Maximal Margin Classification\n",
      "    Algorithm. NIPS. 2000.\n",
      "\n"
     ]
    }
   ],
   "source": [
    "print(digits.DESCR)"
   ]
  },
  {
   "cell_type": "code",
   "execution_count": 7,
   "id": "2b5b0be8",
   "metadata": {},
   "outputs": [
    {
     "data": {
      "text/plain": [
       "(1797, 64)"
      ]
     },
     "execution_count": 7,
     "metadata": {},
     "output_type": "execute_result"
    }
   ],
   "source": [
    "digits.data.shape"
   ]
  },
  {
   "cell_type": "code",
   "execution_count": 8,
   "id": "92a5ff96",
   "metadata": {},
   "outputs": [
    {
     "data": {
      "text/plain": [
       "(1797,)"
      ]
     },
     "execution_count": 8,
     "metadata": {},
     "output_type": "execute_result"
    }
   ],
   "source": [
    "digits.target.shape"
   ]
  },
  {
   "cell_type": "code",
   "execution_count": 9,
   "id": "106312a6",
   "metadata": {},
   "outputs": [
    {
     "data": {
      "text/plain": [
       "(1797, 8, 8)"
      ]
     },
     "execution_count": 9,
     "metadata": {},
     "output_type": "execute_result"
    }
   ],
   "source": [
    "digits.images.shape"
   ]
  },
  {
   "cell_type": "code",
   "execution_count": 10,
   "id": "db7227ca",
   "metadata": {},
   "outputs": [],
   "source": [
    "img = list(zip(digits.images, digits.target))"
   ]
  },
  {
   "cell_type": "code",
   "execution_count": 11,
   "id": "8914eefb",
   "metadata": {},
   "outputs": [
    {
     "data": {
      "text/plain": [
       "(array([[ 0.,  0.,  0.,  2., 13.,  0.,  0.,  0.],\n",
       "        [ 0.,  0.,  0.,  8., 15.,  0.,  0.,  0.],\n",
       "        [ 0.,  0.,  5., 16.,  5.,  2.,  0.,  0.],\n",
       "        [ 0.,  0., 15., 12.,  1., 16.,  4.,  0.],\n",
       "        [ 0.,  4., 16.,  2.,  9., 16.,  8.,  0.],\n",
       "        [ 0.,  0., 10., 14., 16., 16.,  4.,  0.],\n",
       "        [ 0.,  0.,  0.,  0., 13.,  8.,  0.,  0.],\n",
       "        [ 0.,  0.,  0.,  0., 13.,  6.,  0.,  0.]]),\n",
       " 4)"
      ]
     },
     "execution_count": 11,
     "metadata": {},
     "output_type": "execute_result"
    }
   ],
   "source": [
    "img[100]"
   ]
  },
  {
   "cell_type": "markdown",
   "id": "920e3cf3",
   "metadata": {},
   "source": [
    "for i, (image, label) in enumerate(img[:10]):\n",
    "    plt.subplot(2, 5, i + 1)\n",
    "    plt.axis('off')\n",
    "    plt.imshow(image, cmap=plt.cm.gray_r, interpolation='nearest')\n",
    "    plt.title('Value: %i' % label)"
   ]
  },
  {
   "cell_type": "code",
   "execution_count": 12,
   "id": "f0f204e9",
   "metadata": {},
   "outputs": [
    {
     "data": {
      "image/png": "[encoded data removed]",
      "text/plain": [
       "<Figure size 432x288 with 10 Axes>"
      ]
     },
     "metadata": {
      "needs_background": "light"
     },
     "output_type": "display_data"
    }
   ],
   "source": [
    "for i, (image, label) in enumerate(img[:10]): \n",
    "    plt.subplot(2, 5, i + 1) \n",
    "    plt.axis('off') \n",
    "    plt.imshow(image, cmap=plt.cm.gray_r, interpolation='nearest') \n",
    "    plt.title('Value: %i' % label)"
   ]
  },
  {
   "cell_type": "code",
   "execution_count": 16,
   "id": "21267be1",
   "metadata": {},
   "outputs": [],
   "source": [
    "X_train, X_test, y_train, y_test = train_test_split(digits.data, digits.target, test_size=0.3, random_state=2018)"
   ]
  },
  {
   "cell_type": "code",
   "execution_count": 17,
   "id": "d8fad03c",
   "metadata": {},
   "outputs": [],
   "source": [
    "sc = StandardScaler()"
   ]
  },
  {
   "cell_type": "code",
   "execution_count": 18,
   "id": "200a7abf",
   "metadata": {},
   "outputs": [],
   "source": [
    "X_train_std = sc.fit_transform(X_train)\n",
    "X_test_std = sc.transform(X_test)"
   ]
  },
  {
   "cell_type": "code",
   "execution_count": 23,
   "id": "dae379c4",
   "metadata": {},
   "outputs": [],
   "source": [
    "svm_clf = SVC(kernel='rbf', gamma=0.001, C=1)\n",
    "knn_clf = KNeighborsClassifier(n_neighbors=3)\n",
    "dt = DecisionTreeClassifier(max_depth=3, criterion='entropy', random_state=2018)\n",
    "ada = AdaBoostClassifier(base_estimator=dt, n_estimators=1000,\n",
    "                        learning_rate=0.1, random_state=2018)\n",
    "mlp = MLPClassifier(activation='logistic', solver='sgd', learning_rate_init=0.001,\n",
    "                  learning_rate='constant', alpha=1e-4, hidden_layer_sizes=(100,),\n",
    "                  max_iter=5000, shuffle=True, random_state=2018)"
   ]
  },
  {
   "cell_type": "code",
   "execution_count": 24,
   "id": "95ccf616",
   "metadata": {},
   "outputs": [
    {
     "data": {
      "text/plain": [
       "MLPClassifier(activation='logistic', max_iter=5000, random_state=2018,\n",
       "              solver='sgd')"
      ]
     },
     "execution_count": 24,
     "metadata": {},
     "output_type": "execute_result"
    }
   ],
   "source": [
    "svm_clf.fit(X_train_std, y_train)\n",
    "knn_clf.fit(X_train_std, y_train)\n",
    "ada.fit(X_train_std, y_train)\n",
    "mlp.fit(X_train_std, y_train)"
   ]
  },
  {
   "cell_type": "code",
   "execution_count": 25,
   "id": "9a6c2a6e",
   "metadata": {},
   "outputs": [],
   "source": [
    "svm_pred = svm_clf.predict(X_test_std)\n",
    "knn_pred = knn_clf.predict(X_test_std)\n",
    "ada_pred = ada.predict(X_test_std)\n",
    "mlp_pred = mlp.predict(X_test_std)"
   ]
  },
  {
   "cell_type": "code",
   "execution_count": 27,
   "id": "356e8cfc",
   "metadata": {},
   "outputs": [
    {
     "name": "stdout",
     "output_type": "stream",
     "text": [
      "Accuracy score SVM: 0.9425925925925925\n",
      "Accuracy score KNN: 0.975925925925926\n",
      "Accuracy score AdaBoost: 0.924074074074074\n",
      "Accuracy score MLP: 0.95\n"
     ]
    }
   ],
   "source": [
    "print(\"Accuracy score SVM:\", accuracy_score(y_test, svm_pred))\n",
    "print(\"Accuracy score KNN:\", accuracy_score(y_test, knn_pred))\n",
    "print(\"Accuracy score AdaBoost:\", accuracy_score(y_test, ada_pred))\n",
    "print(\"Accuracy score MLP:\", accuracy_score(y_test, mlp_pred))"
   ]
  },
  {
   "cell_type": "code",
   "execution_count": 28,
   "id": "e8915425",
   "metadata": {},
   "outputs": [
    {
     "name": "stdout",
     "output_type": "stream",
     "text": [
      "Confusion matrix:\n",
      "[[50  0  0  0  0  0  0  0  0  0]\n",
      " [ 0 51  0  0  1  0  0  0  2  3]\n",
      " [ 0  0 52  0  0  0  0  0  0  0]\n",
      " [ 0  0  3 55  0  1  0  0  2  0]\n",
      " [ 0  0  0  0 48  0  0  0  1  0]\n",
      " [ 0  1  0  0  0 47  1  0  0  1]\n",
      " [ 0  0  0  0  0  0 60  0  0  0]\n",
      " [ 0  0  0  0  1  0  0 50  0  1]\n",
      " [ 0  4  0  0  0  0  1  0 46  0]\n",
      " [ 0  0  0  0  0  1  0  1  2 54]]\n"
     ]
    }
   ],
   "source": [
    "print(\"Confusion matrix:\\n%s\" % (confusion_matrix(y_test, mlp_pred)))"
   ]
  },
  {
   "cell_type": "code",
   "execution_count": 29,
   "id": "a8110d79",
   "metadata": {},
   "outputs": [
    {
     "name": "stdout",
     "output_type": "stream",
     "text": [
      "Classification report:\n",
      "              precision    recall  f1-score   support\n",
      "\n",
      "           0       1.00      1.00      1.00        50\n",
      "           1       0.91      0.89      0.90        57\n",
      "           2       0.95      1.00      0.97        52\n",
      "           3       1.00      0.90      0.95        61\n",
      "           4       0.96      0.98      0.97        49\n",
      "           5       0.96      0.94      0.95        50\n",
      "           6       0.97      1.00      0.98        60\n",
      "           7       0.98      0.96      0.97        52\n",
      "           8       0.87      0.90      0.88        51\n",
      "           9       0.92      0.93      0.92        58\n",
      "\n",
      "    accuracy                           0.95       540\n",
      "   macro avg       0.95      0.95      0.95       540\n",
      "weighted avg       0.95      0.95      0.95       540\n",
      "\n"
     ]
    }
   ],
   "source": [
    "print(\"Classification report:\\n%s\" % (classification_report(y_test, mlp_pred)))"
   ]
  },
  {
   "cell_type": "code",
   "execution_count": 30,
   "id": "0faad054",
   "metadata": {},
   "outputs": [
    {
     "data": {
      "text/plain": [
       "array([[ 0.,  0.,  5., 14., 10.,  7.,  0.,  0.,  0.,  0., 16., 16., 16.,\n",
       "        16.,  3.,  0.,  0.,  3., 16., 10.,  2., 16.,  7.,  0.,  0.,  7.,\n",
       "        16.,  3.,  0., 12.,  8.,  0.,  0.,  8., 16.,  1.,  0., 12.,  8.,\n",
       "         0.,  0.,  7., 16.,  5.,  2., 16.,  4.,  0.,  0.,  2., 16., 15.,\n",
       "        14., 13.,  0.,  0.,  0.,  0.,  7., 15., 13.,  2.,  0.,  0.]])"
      ]
     },
     "execution_count": 30,
     "metadata": {},
     "output_type": "execute_result"
    }
   ],
   "source": [
    "X_test[:1]"
   ]
  },
  {
   "cell_type": "code",
   "execution_count": 31,
   "id": "3da4a770",
   "metadata": {},
   "outputs": [
    {
     "data": {
      "text/plain": [
       "array([[[ 0.,  0.,  5., 14., 10.,  7.,  0.,  0.],\n",
       "        [ 0.,  0., 16., 16., 16., 16.,  3.,  0.],\n",
       "        [ 0.,  3., 16., 10.,  2., 16.,  7.,  0.],\n",
       "        [ 0.,  7., 16.,  3.,  0., 12.,  8.,  0.],\n",
       "        [ 0.,  8., 16.,  1.,  0., 12.,  8.,  0.],\n",
       "        [ 0.,  7., 16.,  5.,  2., 16.,  4.,  0.],\n",
       "        [ 0.,  2., 16., 15., 14., 13.,  0.,  0.],\n",
       "        [ 0.,  0.,  7., 15., 13.,  2.,  0.,  0.]]])"
      ]
     },
     "execution_count": 31,
     "metadata": {},
     "output_type": "execute_result"
    }
   ],
   "source": [
    "X_test[:1].reshape(-1, 8, 8)"
   ]
  },
  {
   "cell_type": "code",
   "execution_count": 33,
   "id": "2437394d",
   "metadata": {},
   "outputs": [
    {
     "data": {
      "image/png": "[encoded data removed]",
      "text/plain": [
       "<Figure size 864x288 with 20 Axes>"
      ]
     },
     "metadata": {
      "needs_background": "light"
     },
     "output_type": "display_data"
    }
   ],
   "source": [
    "plt.figure(figsize=(12,4))\n",
    "img_pred = list(zip(X_test.reshape(-1,8,8), mlp_pred, y_test))\n",
    "for index, (image, prediction, label) in enumerate(img_pred[:20]):\n",
    "    plt.subplot(2, 10, index + 1)\n",
    "    plt.axis('off')\n",
    "    plt.imshow(image, cmap=plt.cm.gray_r, interpolation='nearest')\n",
    "    plt.title('Pred: {}\\n Label: {}\\n'.format(prediction, label))"
   ]
  },
  {
   "cell_type": "code",
   "execution_count": 34,
   "id": "a93f7a5f",
   "metadata": {},
   "outputs": [
    {
     "data": {
      "text/plain": [
       "[1,\n",
       " 24,\n",
       " 33,\n",
       " 86,\n",
       " 104,\n",
       " 120,\n",
       " 122,\n",
       " 212,\n",
       " 253,\n",
       " 267,\n",
       " 290,\n",
       " 327,\n",
       " 336,\n",
       " 340,\n",
       " 343,\n",
       " 349,\n",
       " 350,\n",
       " 358,\n",
       " 424,\n",
       " 427,\n",
       " 454,\n",
       " 463,\n",
       " 469,\n",
       " 482,\n",
       " 502,\n",
       " 532,\n",
       " 539]"
      ]
     },
     "execution_count": 34,
     "metadata": {},
     "output_type": "execute_result"
    }
   ],
   "source": [
    "misclassifiedIndexes = []\n",
    "for idx, (label, predict) in enumerate(list(zip(y_test, mlp_pred))):\n",
    "    if label != predict:\n",
    "        misclassifiedIndexes.append(idx)\n",
    "misclassifiedIndexes"
   ]
  },
  {
   "cell_type": "code",
   "execution_count": 36,
   "id": "567a334a",
   "metadata": {},
   "outputs": [
    {
     "data": {
      "image/png": "[encoded data removed]",
      "text/plain": [
       "<Figure size 864x576 with 27 Axes>"
      ]
     },
     "metadata": {
      "needs_background": "light"
     },
     "output_type": "display_data"
    }
   ],
   "source": [
    "plt.figure(figsize=(12,8))\n",
    "for plotIndex, badIndex in enumerate(misclassifiedIndexes):\n",
    "    plt.subplot(3, 10, plotIndex + 1)\n",
    "    plt.axis('off')\n",
    "    plt.imshow(img_pred[badIndex][0], cmap=plt.cm.gray_r, interpolation='nearest')\n",
    "    plt.title('Pred: {}\\n Label: {}\\n'.format(mlp_pred[badIndex], y_test[badIndex]))"
   ]
  },
  {
   "cell_type": "code",
   "execution_count": null,
   "id": "be426356",
   "metadata": {},
   "outputs": [],
   "source": []
  }
 ],
 "metadata": {
  "kernelspec": {
   "display_name": "Python 3 (ipykernel)",
   "language": "python",
   "name": "python3"
  },
  "language_info": {
   "codemirror_mode": {
    "name": "ipython",
    "version": 3
   },
   "file_extension": ".py",
   "mimetype": "text/x-python",
   "name": "python",
   "nbconvert_exporter": "python",
   "pygments_lexer": "ipython3",
   "version": "3.8.9"
  }
 },
 "nbformat": 4,
 "nbformat_minor": 5
}

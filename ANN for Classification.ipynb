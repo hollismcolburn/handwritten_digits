{
 "cells": [
  {
   "cell_type": "code",
   "execution_count": 1,
   "id": "12ae3de7",
   "metadata": {},
   "outputs": [],
   "source": [
    "import numpy as np\n",
    "import matplotlib.pyplot as plt\n",
    "from sklearn.datasets import load_iris\n",
    "from sklearn.preprocessing import MinMaxScaler\n",
    "from sklearn.model_selection import train_test_split\n",
    "from sklearn.metrics import confusion_matrix, classification_report\n",
    "%matplotlib inline"
   ]
  },
  {
   "cell_type": "code",
   "execution_count": 19,
   "id": "675165b0",
   "metadata": {},
   "outputs": [],
   "source": [
    "class Neural_Network(object):\n",
    "    def __init__(self):\n",
    "        # hyperparameters\n",
    "        self.random = np.random.RandomState(2018)\n",
    "        self.hiddenLayerSize = 100\n",
    "        self.epochs = 10000\n",
    "        self.minibatches = 1\n",
    "        self.learning_rate = 0.01\n",
    "        self.Lambda = 0.001  # regularization parameter\n",
    "        \n",
    "    # preprocessing data\n",
    "    \n",
    "    def onehot(self, y, n_classes):\n",
    "        onehot = np.zeros((n_classes, y.shape[0]))\n",
    "        for i, val in enumerate(y.astype(int)):\n",
    "            onehot[val, i] = 1\n",
    "        return onehot.T\n",
    "    \n",
    "    def minmaxScaler(self, X_train, X_test):\n",
    "        scaler = MinMaxScaler(feature_range=(0, 1), copy=True)\n",
    "        X_train_std = scaler.fit_transform(X_train)\n",
    "        X_test_std = scaler.transform(X_test)\n",
    "        return X_train_std, X_test_std\n",
    "    \n",
    "    # activation functions and derivatives\n",
    "    \n",
    "    def sigmoid(self, x):\n",
    "        return 1/(1+np.exp(-x))\n",
    "    \n",
    "    def sigmoidPrime(self, z):\n",
    "        return z * (1 - z)\n",
    "    \n",
    "    # forward propagation\n",
    "    \n",
    "    def forward(self, X):\n",
    "        z_h = np.dot(X, self.W1) + self.b_h\n",
    "        a_h = self.sigmoid(z_h)\n",
    "        z_out = np.dot(a_h, self.W2) + self.b_out\n",
    "        a_out = self.sigmoid(z_out)\n",
    "        return z_h, a_h, z_out, a_out\n",
    "    \n",
    "    def predict(self, X):\n",
    "        z_hidden, a_hidden, z_out, a_out = self.forward(X)\n",
    "        y_pred = np.argmax(a_out, axis=1)\n",
    "        return y_pred\n",
    "    \n",
    "    # cost function\n",
    "    \n",
    "    def costFunction(self, y_target, y_hat):\n",
    "        l2 = (self.Lambda * (np.sum(self.W1**2) + np.sum(self.W2**2)))\n",
    "        c1 = -y_target * (np.log(y_hat + 1e-8))\n",
    "        c2 = (1.-y_target)*np.log(1.-y_hat + 1e-8)\n",
    "        cost = np.sum(c1-c2) + 12\n",
    "        return cost\n",
    "    \n",
    "    def fit(self, X_train, y_train, X_test, y_test):\n",
    "        n_classes = np.unique(y_train).shape[0]\n",
    "        n_features = X_train.shape[1]\n",
    "        \n",
    "        # preprocessing the data\n",
    "        y_train_enc = self.onehot(y_train, n_classes)\n",
    "        y_test_enc = self.onehot(y_test, n_classes)\n",
    "        \n",
    "        X_train, X_test = self.minmaxScaler(X_train, X_test)\n",
    "        \n",
    "        # weights (parameters)\n",
    "        self.b_h = np.zeros(self.hiddenLayerSize)\n",
    "        self.W1 = self.random.normal(loc=0.0, scale=0.1,\n",
    "                                    size=(n_features, self.hiddenLayerSize))\n",
    "        self.b_out = np.zeros(n_classes)\n",
    "        self.W2 = self.random.normal(loc=0.0, scale=0.1,\n",
    "                                    size=(self.hiddenLayerSize, n_classes))\n",
    "        self.eval = {'cost_train': [], 'cost_test': [], 'train_acc': [], 'test_acc': []}\n",
    "        \n",
    "        for i in range(self.epochs):\n",
    "            \n",
    "            batch = np.array_split(range(y_test.shape[0]), self.minibatches)\n",
    "            \n",
    "            for idx in batch:\n",
    "                # forward propagation\n",
    "                z_h, a_h, z_out, a_out = self.forward(X_train[idx])\n",
    "                \n",
    "                # backpropragation\n",
    "                sigma_out = (a_out - y_train_enc[idx])\n",
    "                sigma_h = np.dot(sigma_out, self.W2.T) * self.sigmoidPrime(a_h)\n",
    "                \n",
    "                grad_W1 = np.dot(X_train[idx].T, sigma_h)\n",
    "                grad_b_h = np.sum(sigma_h, axis=0)\n",
    "                \n",
    "                grad_W2 = np.dot(a_h.T, sigma_out)\n",
    "                grad_b_out = np.sum(sigma_out, axis=0)\n",
    "                \n",
    "                # regularization and weight updates\n",
    "                \n",
    "                delta_W1 = grad_W1 + self.Lambda * self.W1\n",
    "                delta_b_h = grad_b_h  # we don't need to regularize the bias\n",
    "                self.W1 -= self.learning_rate * delta_W1\n",
    "                self.b_h -= self.learning_rate * delta_b_h\n",
    "\n",
    "                delta_W2 = grad_W2 + self.Lambda * self.W2\n",
    "                delta_b_out = grad_b_out\n",
    "                self.W2 -= self.learning_rate * delta_W2\n",
    "                self.b_out -= self.learning_rate * delta_b_out\n",
    "            \n",
    "            # evaluation\n",
    "            z_h, a_h, z_out, a_out_train = self.forward(X_train)\n",
    "            z_h_test, a_h_test, z_out_test, a_out_test = self.forward(X_test)\n",
    "\n",
    "            cost_train = self.costFunction(y_train_enc, a_out_train)\n",
    "            cost_test = self.costFunction(y_test_enc, a_out_test)\n",
    "\n",
    "            y_train_pred = self.predict(X_train)\n",
    "            y_test_pred = self.predict(X_test)\n",
    "\n",
    "            train_acc = (np.sum(y_train == y_train_pred)).astype(np.float) / X_train.shape[0]\n",
    "            test_acc = (np.sum(y_test == y_test_pred)).astype(np.float) / X_test.shape[0]\n",
    "\n",
    "            self.eval['cost_train'].append(cost_train)\n",
    "            self.eval['cost_test'].append(cost_test)\n",
    "            self.eval['train_acc'].append(train_acc)\n",
    "            self.eval['test_acc'].append(test_acc)\n",
    "\n",
    "            if i % 1000 == 0:\n",
    "                print('training-acc: %.2f' % train_acc)\n",
    "                print('test-acc: %.2f' % test_acc)\n",
    "            \n",
    "        print(\"Confusion_matrix: \\n\", confusion_matrix(y_test, y_test_pred))\n",
    "        print(\"Classification_report: \\n\", classification_report(y_test, y_test_pred))\n",
    "\n",
    "        return self.eval\n",
    "    \n",
    "    # plotting cost functions for training and testing\n",
    "    \n",
    "    def plot(self, cost_train, cost_test, train_acc, test_acc):\n",
    "        fig, ax = plt.subplots(2, 1, figsize=(10,8))\n",
    "        ax[0].plot(np.arange(len(cost_train)), cost_train, lw=2, color='blue', label='CostTraining')\n",
    "        ax[0].plot(np.arange(len(cost_test)), cost_test, lw=2, color='red', label='CostTest')\n",
    "        ax[0].legend(loc='best')\n",
    "        ax[0].set_ylabel('Cost')\n",
    "        ax[0].set_xlabel('Cycles')\n",
    "        \n",
    "        ax[1].plot(np.arange(len(train_acc)), train_acc, lw=2, color='blue', label='Training Accuracy %')\n",
    "        ax[1].plot(np.arange(len(test_acc)), test_acc, lw=2, color='red', label='Test Accuracy %')\n",
    "        ax[1].legend(loc='best')\n",
    "        ax[1].set_ylabel('Accuracy')\n",
    "        ax[1].set_xlabel('Cycles')\n",
    "        \n",
    "        return plt.show()\n",
    "\n"
   ]
  },
  {
   "cell_type": "markdown",
   "id": "5548f652",
   "metadata": {},
   "source": [
    "Testing the model:"
   ]
  },
  {
   "cell_type": "code",
   "execution_count": 20,
   "id": "b7ff5094",
   "metadata": {},
   "outputs": [],
   "source": [
    "NN = Neural_Network()"
   ]
  },
  {
   "cell_type": "code",
   "execution_count": 21,
   "id": "a5d511f6",
   "metadata": {},
   "outputs": [],
   "source": [
    "iris=load_iris()\n",
    "X=iris.data\n",
    "y=iris.target"
   ]
  },
  {
   "cell_type": "code",
   "execution_count": 22,
   "id": "47c80583",
   "metadata": {},
   "outputs": [],
   "source": [
    "X_train, X_test, y_train, y_test = train_test_split(X, y, test_size=0.3, random_state=2018)"
   ]
  },
  {
   "cell_type": "code",
   "execution_count": 23,
   "id": "ad07bc27",
   "metadata": {},
   "outputs": [
    {
     "name": "stderr",
     "output_type": "stream",
     "text": [
      "/var/folders/8r/l_mpbfw92dg3t3vhkp57yndm0000gn/T/ipykernel_15758/2330915931.py:115: DeprecationWarning: `np.float` is a deprecated alias for the builtin `float`. To silence this warning, use `float` by itself. Doing this will not modify any behavior and is safe. If you specifically wanted the numpy scalar type, use `np.float64` here.\n",
      "Deprecated in NumPy 1.20; for more details and guidance: https://numpy.org/devdocs/release/1.20.0-notes.html#deprecations\n",
      "  train_acc = (np.sum(y_train == y_train_pred)).astype(np.float) / X_train.shape[0]\n",
      "/var/folders/8r/l_mpbfw92dg3t3vhkp57yndm0000gn/T/ipykernel_15758/2330915931.py:116: DeprecationWarning: `np.float` is a deprecated alias for the builtin `float`. To silence this warning, use `float` by itself. Doing this will not modify any behavior and is safe. If you specifically wanted the numpy scalar type, use `np.float64` here.\n",
      "Deprecated in NumPy 1.20; for more details and guidance: https://numpy.org/devdocs/release/1.20.0-notes.html#deprecations\n",
      "  test_acc = (np.sum(y_test == y_test_pred)).astype(np.float) / X_test.shape[0]\n"
     ]
    },
    {
     "name": "stdout",
     "output_type": "stream",
     "text": [
      "training-acc: 0.37\n",
      "test-acc: 0.24\n",
      "training-acc: 0.97\n",
      "test-acc: 0.98\n",
      "training-acc: 0.97\n",
      "test-acc: 0.98\n",
      "training-acc: 0.97\n",
      "test-acc: 0.98\n",
      "training-acc: 0.97\n",
      "test-acc: 0.98\n",
      "training-acc: 0.97\n",
      "test-acc: 0.98\n",
      "training-acc: 0.97\n",
      "test-acc: 0.98\n",
      "training-acc: 0.97\n",
      "test-acc: 0.98\n",
      "training-acc: 0.97\n",
      "test-acc: 0.98\n",
      "training-acc: 0.97\n",
      "test-acc: 0.98\n",
      "Confusion_matrix: \n",
      " [[18  0  0]\n",
      " [ 0 11  0]\n",
      " [ 0  1 15]]\n",
      "Classification_report: \n",
      "               precision    recall  f1-score   support\n",
      "\n",
      "           0       1.00      1.00      1.00        18\n",
      "           1       0.92      1.00      0.96        11\n",
      "           2       1.00      0.94      0.97        16\n",
      "\n",
      "    accuracy                           0.98        45\n",
      "   macro avg       0.97      0.98      0.97        45\n",
      "weighted avg       0.98      0.98      0.98        45\n",
      "\n"
     ]
    }
   ],
   "source": [
    "eval = NN.fit(X_train, y_train, X_test, y_test)"
   ]
  },
  {
   "cell_type": "code",
   "execution_count": 24,
   "id": "96eff120",
   "metadata": {},
   "outputs": [
    {
     "data": {
      "image/png": "[encoded data removed]",
      "text/plain": [
       "<Figure size 720x576 with 2 Axes>"
      ]
     },
     "metadata": {
      "needs_background": "light"
     },
     "output_type": "display_data"
    }
   ],
   "source": [
    "NN.plot(eval['cost_train'], eval['cost_test'], eval['train_acc'], eval['test_acc'])"
   ]
  },
  {
   "cell_type": "code",
   "execution_count": 25,
   "id": "0151c121",
   "metadata": {},
   "outputs": [],
   "source": [
    "from sklearn.datasets import load_digits"
   ]
  },
  {
   "cell_type": "code",
   "execution_count": 26,
   "id": "2ccb69ed",
   "metadata": {},
   "outputs": [],
   "source": [
    "digits = load_digits()"
   ]
  },
  {
   "cell_type": "code",
   "execution_count": 27,
   "id": "db983282",
   "metadata": {},
   "outputs": [],
   "source": [
    "X = digits.data.shape\n",
    "y = digits.target"
   ]
  },
  {
   "cell_type": "code",
   "execution_count": 28,
   "id": "6282da16",
   "metadata": {},
   "outputs": [],
   "source": [
    "X_train, X_test, y_train, y_test = train_test_split(digits.data, digits.target, test_size=0.3, random_state=2018)"
   ]
  },
  {
   "cell_type": "code",
   "execution_count": 29,
   "id": "a3a7645d",
   "metadata": {},
   "outputs": [
    {
     "name": "stderr",
     "output_type": "stream",
     "text": [
      "/var/folders/8r/l_mpbfw92dg3t3vhkp57yndm0000gn/T/ipykernel_15758/2330915931.py:115: DeprecationWarning: `np.float` is a deprecated alias for the builtin `float`. To silence this warning, use `float` by itself. Doing this will not modify any behavior and is safe. If you specifically wanted the numpy scalar type, use `np.float64` here.\n",
      "Deprecated in NumPy 1.20; for more details and guidance: https://numpy.org/devdocs/release/1.20.0-notes.html#deprecations\n",
      "  train_acc = (np.sum(y_train == y_train_pred)).astype(np.float) / X_train.shape[0]\n",
      "/var/folders/8r/l_mpbfw92dg3t3vhkp57yndm0000gn/T/ipykernel_15758/2330915931.py:116: DeprecationWarning: `np.float` is a deprecated alias for the builtin `float`. To silence this warning, use `float` by itself. Doing this will not modify any behavior and is safe. If you specifically wanted the numpy scalar type, use `np.float64` here.\n",
      "Deprecated in NumPy 1.20; for more details and guidance: https://numpy.org/devdocs/release/1.20.0-notes.html#deprecations\n",
      "  test_acc = (np.sum(y_test == y_test_pred)).astype(np.float) / X_test.shape[0]\n"
     ]
    },
    {
     "name": "stdout",
     "output_type": "stream",
     "text": [
      "training-acc: 0.10\n",
      "test-acc: 0.09\n",
      "training-acc: 0.95\n",
      "test-acc: 0.94\n",
      "training-acc: 0.95\n",
      "test-acc: 0.94\n",
      "training-acc: 0.95\n",
      "test-acc: 0.94\n",
      "training-acc: 0.95\n",
      "test-acc: 0.94\n",
      "training-acc: 0.95\n",
      "test-acc: 0.95\n",
      "training-acc: 0.95\n",
      "test-acc: 0.95\n",
      "training-acc: 0.95\n",
      "test-acc: 0.95\n",
      "training-acc: 0.95\n",
      "test-acc: 0.95\n",
      "training-acc: 0.95\n",
      "test-acc: 0.95\n",
      "Confusion_matrix: \n",
      " [[50  0  0  0  0  0  0  0  0  0]\n",
      " [ 0 50  0  0  2  1  1  0  1  2]\n",
      " [ 0  1 51  0  0  0  0  0  0  0]\n",
      " [ 0  0  1 56  0  1  0  0  1  2]\n",
      " [ 0  0  0  0 48  0  0  1  0  0]\n",
      " [ 0  0  0  0  0 48  1  0  0  1]\n",
      " [ 0  0  0  0  0  0 60  0  0  0]\n",
      " [ 0  0  0  1  1  1  0 48  0  1]\n",
      " [ 0  1  2  0  0  0  1  2 45  0]\n",
      " [ 0  0  0  0  0  0  0  0  1 57]]\n",
      "Classification_report: \n",
      "               precision    recall  f1-score   support\n",
      "\n",
      "           0       1.00      1.00      1.00        50\n",
      "           1       0.96      0.88      0.92        57\n",
      "           2       0.94      0.98      0.96        52\n",
      "           3       0.98      0.92      0.95        61\n",
      "           4       0.94      0.98      0.96        49\n",
      "           5       0.94      0.96      0.95        50\n",
      "           6       0.95      1.00      0.98        60\n",
      "           7       0.94      0.92      0.93        52\n",
      "           8       0.94      0.88      0.91        51\n",
      "           9       0.90      0.98      0.94        58\n",
      "\n",
      "    accuracy                           0.95       540\n",
      "   macro avg       0.95      0.95      0.95       540\n",
      "weighted avg       0.95      0.95      0.95       540\n",
      "\n"
     ]
    }
   ],
   "source": [
    "eval = NN.fit(X_train, y_train, X_test, y_test)"
   ]
  },
  {
   "cell_type": "code",
   "execution_count": 30,
   "id": "c3e1440d",
   "metadata": {},
   "outputs": [
    {
     "data": {
      "image/png": "[encoded data removed]",
      "text/plain": [
       "<Figure size 720x576 with 2 Axes>"
      ]
     },
     "metadata": {
      "needs_background": "light"
     },
     "output_type": "display_data"
    }
   ],
   "source": [
    "NN.plot(eval['cost_train'], eval['cost_test'], eval['train_acc'], eval['test_acc'])"
   ]
  },
  {
   "cell_type": "code",
   "execution_count": null,
   "id": "f92cd66c",
   "metadata": {},
   "outputs": [],
   "source": []
  }
 ],
 "metadata": {
  "kernelspec": {
   "display_name": "Python 3 (ipykernel)",
   "language": "python",
   "name": "python3"
  },
  "language_info": {
   "codemirror_mode": {
    "name": "ipython",
    "version": 3
   },
   "file_extension": ".py",
   "mimetype": "text/x-python",
   "name": "python",
   "nbconvert_exporter": "python",
   "pygments_lexer": "ipython3",
   "version": "3.8.9"
  }
 },
 "nbformat": 4,
 "nbformat_minor": 5
}
